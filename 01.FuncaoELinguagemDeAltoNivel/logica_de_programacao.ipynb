{
 "cells": [
  {
   "cell_type": "markdown",
   "source": [
    "# AULA 01"
   ],
   "metadata": {
    "collapsed": false
   }
  },
  {
   "cell_type": "markdown",
   "source": [
    "Lógica de Programação com Python"
   ],
   "metadata": {
    "collapsed": false
   }
  },
  {
   "cell_type": "code",
   "execution_count": 8,
   "outputs": [
    {
     "data": {
      "text/plain": "2"
     },
     "execution_count": 8,
     "metadata": {},
     "output_type": "execute_result"
    }
   ],
   "source": [
    "1+1"
   ],
   "metadata": {
    "collapsed": false,
    "ExecuteTime": {
     "start_time": "2023-04-25T22:35:01.299416Z",
     "end_time": "2023-04-25T22:35:01.311928Z"
    }
   }
  },
  {
   "cell_type": "code",
   "execution_count": 9,
   "outputs": [
    {
     "data": {
      "text/plain": "'Filipe'"
     },
     "execution_count": 9,
     "metadata": {},
     "output_type": "execute_result"
    }
   ],
   "source": [
    "\"Filipe\""
   ],
   "metadata": {
    "collapsed": false,
    "ExecuteTime": {
     "start_time": "2023-04-25T22:35:01.808597Z",
     "end_time": "2023-04-25T22:35:01.830217Z"
    }
   }
  },
  {
   "cell_type": "code",
   "execution_count": 10,
   "outputs": [
    {
     "data": {
      "text/plain": "'Sun sun-chan'"
     },
     "execution_count": 10,
     "metadata": {},
     "output_type": "execute_result"
    }
   ],
   "source": [
    "'Sun sun-chan'"
   ],
   "metadata": {
    "collapsed": false,
    "ExecuteTime": {
     "start_time": "2023-04-25T22:35:01.845449Z",
     "end_time": "2023-04-25T22:35:01.887568Z"
    }
   }
  },
  {
   "cell_type": "code",
   "execution_count": 11,
   "outputs": [
    {
     "data": {
      "text/plain": "'Sun sunzita'"
     },
     "execution_count": 11,
     "metadata": {},
     "output_type": "execute_result"
    }
   ],
   "source": [
    "nome = 'Sun sunzita'\n",
    "nome"
   ],
   "metadata": {
    "collapsed": false,
    "ExecuteTime": {
     "start_time": "2023-04-25T22:35:01.927694Z",
     "end_time": "2023-04-25T22:35:01.942243Z"
    }
   }
  },
  {
   "cell_type": "code",
   "execution_count": 12,
   "outputs": [
    {
     "data": {
      "text/plain": "18"
     },
     "execution_count": 12,
     "metadata": {},
     "output_type": "execute_result"
    }
   ],
   "source": [
    "idade = 18\n",
    "idade"
   ],
   "metadata": {
    "collapsed": false,
    "ExecuteTime": {
     "start_time": "2023-04-25T22:35:01.955759Z",
     "end_time": "2023-04-25T22:35:02.049929Z"
    }
   }
  },
  {
   "cell_type": "code",
   "execution_count": 13,
   "outputs": [
    {
     "name": "stdout",
     "output_type": "stream",
     "text": [
      "O nome é: Filipe e a idade é: 18 anos\n"
     ]
    }
   ],
   "source": [
    "print('O nome é: Filipe e a idade é: 18 anos')"
   ],
   "metadata": {
    "collapsed": false,
    "ExecuteTime": {
     "start_time": "2023-04-25T22:35:01.984863Z",
     "end_time": "2023-04-25T22:35:02.050930Z"
    }
   }
  },
  {
   "cell_type": "code",
   "execution_count": 14,
   "outputs": [
    {
     "name": "stdout",
     "output_type": "stream",
     "text": [
      "O nome é: Sun sunzita e a idade é: 18 anos\n"
     ]
    }
   ],
   "source": [
    "print(f'O nome é: {nome} e a idade é: {idade} anos')"
   ],
   "metadata": {
    "collapsed": false,
    "ExecuteTime": {
     "start_time": "2023-04-25T22:35:02.027885Z",
     "end_time": "2023-04-25T22:35:02.225586Z"
    }
   }
  },
  {
   "cell_type": "markdown",
   "source": [
    "Criando a primeira função"
   ],
   "metadata": {
    "collapsed": false
   }
  },
  {
   "cell_type": "code",
   "execution_count": 15,
   "outputs": [],
   "source": [
    "def saudacao():\n",
    "    nome = input('Digite seu nome: ')\n",
    "    print(f'Olá, {nome}')"
   ],
   "metadata": {
    "collapsed": false,
    "ExecuteTime": {
     "start_time": "2023-04-25T22:41:27.744039Z",
     "end_time": "2023-04-25T22:41:27.761612Z"
    }
   }
  },
  {
   "cell_type": "code",
   "execution_count": 16,
   "outputs": [
    {
     "name": "stdout",
     "output_type": "stream",
     "text": [
      "Olá, Filipe\n"
     ]
    }
   ],
   "source": [
    "saudacao()"
   ],
   "metadata": {
    "collapsed": false,
    "ExecuteTime": {
     "start_time": "2023-04-25T22:41:43.948505Z",
     "end_time": "2023-04-25T22:41:55.330899Z"
    }
   }
  },
  {
   "cell_type": "code",
   "execution_count": 21,
   "outputs": [
    {
     "name": "stdout",
     "output_type": "stream",
     "text": [
      "Moon Moonzito\n"
     ]
    }
   ],
   "source": [
    "def nome_completo():\n",
    "    primeiro_nome = input(f'Digite seu primeiro nome: ')\n",
    "    sobrenome = input(f'Digite seu sobrenome: ')\n",
    "    nome_completo = primeiro_nome + ' ' + sobrenome\n",
    "    print(nome_completo)\n",
    "\n",
    "nome_completo()"
   ],
   "metadata": {
    "collapsed": false,
    "ExecuteTime": {
     "start_time": "2023-04-25T22:56:56.805537Z",
     "end_time": "2023-04-25T22:57:00.403739Z"
    }
   }
  },
  {
   "cell_type": "code",
   "execution_count": null,
   "outputs": [],
   "source": [],
   "metadata": {
    "collapsed": false
   }
  }
 ],
 "metadata": {
  "kernelspec": {
   "display_name": "Python 3",
   "language": "python",
   "name": "python3"
  },
  "language_info": {
   "codemirror_mode": {
    "name": "ipython",
    "version": 2
   },
   "file_extension": ".py",
   "mimetype": "text/x-python",
   "name": "python",
   "nbconvert_exporter": "python",
   "pygments_lexer": "ipython2",
   "version": "2.7.6"
  }
 },
 "nbformat": 4,
 "nbformat_minor": 0
}
