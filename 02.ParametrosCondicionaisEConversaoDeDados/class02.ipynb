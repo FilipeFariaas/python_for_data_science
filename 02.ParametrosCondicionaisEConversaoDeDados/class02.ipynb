{
 "cells": [
  {
   "cell_type": "markdown",
   "source": [
    "# FUNCTIONS"
   ],
   "metadata": {
    "collapsed": false
   }
  },
  {
   "cell_type": "code",
   "execution_count": 1,
   "outputs": [
    {
     "name": "stdout",
     "output_type": "stream",
     "text": [
      "Hello, Filipe\n"
     ]
    }
   ],
   "source": [
    "def printName():\n",
    "    name = input(\"Type your name: \")\n",
    "    print(f'Hello, {name}')\n",
    "\n",
    "printName()"
   ],
   "metadata": {
    "collapsed": false,
    "ExecuteTime": {
     "start_time": "2023-06-12T21:51:35.126144Z",
     "end_time": "2023-06-12T21:51:38.308088Z"
    }
   }
  },
  {
   "cell_type": "markdown",
   "source": [
    "## FUNCTION WITH PARAMETER"
   ],
   "metadata": {
    "collapsed": false
   }
  },
  {
   "cell_type": "code",
   "execution_count": 2,
   "outputs": [
    {
     "name": "stdout",
     "output_type": "stream",
     "text": [
      "Hello, Filipe\n"
     ]
    }
   ],
   "source": [
    "def greeting(name):\n",
    "    print(f'Hello, {name}')\n",
    "\n",
    "greeting(\"Filipe\")"
   ],
   "metadata": {
    "collapsed": false,
    "ExecuteTime": {
     "start_time": "2023-06-12T21:51:39.699904Z",
     "end_time": "2023-06-12T21:51:39.753553Z"
    }
   }
  },
  {
   "cell_type": "markdown",
   "source": [
    "# CONDICIONAIS"
   ],
   "metadata": {
    "collapsed": false
   }
  },
  {
   "cell_type": "code",
   "execution_count": 3,
   "outputs": [],
   "source": [
    "age = 20"
   ],
   "metadata": {
    "collapsed": false,
    "ExecuteTime": {
     "start_time": "2023-06-12T21:52:09.843626Z",
     "end_time": "2023-06-12T21:52:09.873754Z"
    }
   }
  },
  {
   "cell_type": "code",
   "execution_count": 4,
   "outputs": [
    {
     "name": "stdout",
     "output_type": "stream",
     "text": [
      "Pode dirigir\n"
     ]
    }
   ],
   "source": [
    "def can_drive(age):\n",
    "    if age >= 18:\n",
    "        print(\"Pode dirigir\")\n",
    "    else:\n",
    "        print(\"Não pode dirigir\")\n",
    "\n",
    "can_drive(age)"
   ],
   "metadata": {
    "collapsed": false,
    "ExecuteTime": {
     "start_time": "2023-06-12T21:52:15.397232Z",
     "end_time": "2023-06-12T21:52:15.429118Z"
    }
   }
  },
  {
   "cell_type": "code",
   "execution_count": 5,
   "outputs": [
    {
     "name": "stdout",
     "output_type": "stream",
     "text": [
      "Não pode dirigir\n"
     ]
    }
   ],
   "source": [
    "can_drive(15)"
   ],
   "metadata": {
    "collapsed": false,
    "ExecuteTime": {
     "start_time": "2023-06-12T21:52:19.773786Z",
     "end_time": "2023-06-12T21:52:19.790837Z"
    }
   }
  },
  {
   "cell_type": "markdown",
   "source": [
    "# TYPE CONVERSION"
   ],
   "metadata": {
    "collapsed": false
   }
  },
  {
   "cell_type": "code",
   "execution_count": 6,
   "outputs": [
    {
     "name": "stdout",
     "output_type": "stream",
     "text": [
      "Pode dirigir\n"
     ]
    }
   ],
   "source": [
    "def can_drive_no_parameter():\n",
    "    age = int(input(\"Type your age: \"))\n",
    "    if age >= 18:\n",
    "        print(\"Pode dirigir\")\n",
    "    else:\n",
    "        print(\"Não pode dirigir\")\n",
    "\n",
    "can_drive_no_parameter()"
   ],
   "metadata": {
    "collapsed": false,
    "ExecuteTime": {
     "start_time": "2023-06-12T21:52:31.060364Z",
     "end_time": "2023-06-12T21:52:32.938858Z"
    }
   }
  },
  {
   "cell_type": "markdown",
   "source": [
    "# EXERCISE"
   ],
   "metadata": {
    "collapsed": false
   }
  },
  {
   "cell_type": "markdown",
   "source": [
    "Uma pessoa vai até a padaria todos os dias. A distância de sua casa até o estabelecimento é de 100 metros e todo percurso é feito em 20 segundos.\n",
    "\n",
    "Para calcular a velocidade média e descobrir a razão do espaço pelo tempo, podemos dividir o espaço percorrido pelo tempo.\n",
    "\n",
    "Sabendo disso, a pessoa deseja criar uma função chamada velocidade, que recebe 2 parâmetros chamados espaco e tempo, realizar o cálculo e exibir uma saída semelhante ao exemplo abaixo:\n",
    "\n",
    "Velocidade: 5 m/s"
   ],
   "metadata": {
    "collapsed": false
   }
  },
  {
   "cell_type": "code",
   "execution_count": 8,
   "outputs": [
    {
     "name": "stdout",
     "output_type": "stream",
     "text": [
      "A velocidade média é de: 5.0 m/s\n"
     ]
    }
   ],
   "source": [
    "def calc_speed(distance, time):\n",
    "    average_speed = distance/time\n",
    "    print(f\"A velocidade média é de: {average_speed} m/s\")\n",
    "\n",
    "calc_speed(100, 20)"
   ],
   "metadata": {
    "collapsed": false,
    "ExecuteTime": {
     "start_time": "2023-06-12T21:52:59.551792Z",
     "end_time": "2023-06-12T21:52:59.580001Z"
    }
   }
  },
  {
   "cell_type": "markdown",
   "source": [
    "Uma pessoa criou a seguinte função para descobrir quantos anos faltam para tirar habilitação, caso não tenha a idade permitida. Caso tenha, uma mensagem informa que pode tirar habilitação.\n",
    "\n",
    "Porém, ao executar a função recebe a seguinte mensagem de erro:"
   ],
   "metadata": {
    "collapsed": false
   }
  },
  {
   "cell_type": "code",
   "execution_count": 9,
   "outputs": [
    {
     "ename": "TypeError",
     "evalue": "'>=' not supported between instances of 'str' and 'int'",
     "output_type": "error",
     "traceback": [
      "\u001B[1;31m---------------------------------------------------------------------------\u001B[0m",
      "\u001B[1;31mTypeError\u001B[0m                                 Traceback (most recent call last)",
      "Cell \u001B[1;32mIn[9], line 9\u001B[0m\n\u001B[0;32m      6\u001B[0m         tempo \u001B[38;5;241m=\u001B[39m \u001B[38;5;241m18\u001B[39m \u001B[38;5;241m-\u001B[39m idade\n\u001B[0;32m      7\u001B[0m     \u001B[38;5;28mprint\u001B[39m(\u001B[38;5;124mf\u001B[39m\u001B[38;5;124m'\u001B[39m\u001B[38;5;124mCalma... espere \u001B[39m\u001B[38;5;132;01m{\u001B[39;00mtempo\u001B[38;5;132;01m}\u001B[39;00m\u001B[38;5;124m ano(s) para tirar habilitação\u001B[39m\u001B[38;5;124m'\u001B[39m)\n\u001B[1;32m----> 9\u001B[0m \u001B[43mhabilitacao\u001B[49m\u001B[43m(\u001B[49m\u001B[43m)\u001B[49m\n",
      "Cell \u001B[1;32mIn[9], line 3\u001B[0m, in \u001B[0;36mhabilitacao\u001B[1;34m()\u001B[0m\n\u001B[0;32m      1\u001B[0m \u001B[38;5;28;01mdef\u001B[39;00m \u001B[38;5;21mhabilitacao\u001B[39m():\n\u001B[0;32m      2\u001B[0m     idade \u001B[38;5;241m=\u001B[39m \u001B[38;5;28minput\u001B[39m(\u001B[38;5;124m'\u001B[39m\u001B[38;5;124mQual sua idade? \u001B[39m\u001B[38;5;124m'\u001B[39m)\n\u001B[1;32m----> 3\u001B[0m     \u001B[38;5;28;01mif\u001B[39;00m \u001B[43midade\u001B[49m\u001B[43m \u001B[49m\u001B[38;5;241;43m>\u001B[39;49m\u001B[38;5;241;43m=\u001B[39;49m\u001B[43m \u001B[49m\u001B[38;5;241;43m18\u001B[39;49m:\n\u001B[0;32m      4\u001B[0m         \u001B[38;5;28mprint\u001B[39m(\u001B[38;5;124m'\u001B[39m\u001B[38;5;124mPode tirar habilitação\u001B[39m\u001B[38;5;124m'\u001B[39m)\n\u001B[0;32m      5\u001B[0m     \u001B[38;5;28;01melse\u001B[39;00m:\n",
      "\u001B[1;31mTypeError\u001B[0m: '>=' not supported between instances of 'str' and 'int'"
     ]
    }
   ],
   "source": [
    "def habilitacao():\n",
    "    idade = input('Qual sua idade? ')\n",
    "    if idade >= 18:\n",
    "        print('Pode tirar habilitação')\n",
    "    else:\n",
    "        tempo = 18 - idade\n",
    "    print(f'Calma... espere {tempo} ano(s) para tirar habilitação')\n",
    "\n",
    "habilitacao()"
   ],
   "metadata": {
    "collapsed": false
   }
  },
  {
   "cell_type": "markdown",
   "source": [
    "## SOLUTION"
   ],
   "metadata": {
    "collapsed": false
   }
  },
  {
   "cell_type": "code",
   "execution_count": 10,
   "outputs": [
    {
     "name": "stdout",
     "output_type": "stream",
     "text": [
      "Pode tirar habilitação\n"
     ]
    }
   ],
   "source": [
    "def habilitacao():\n",
    "    idade = int(input('Qual sua idade? '))\n",
    "    if idade >= 18:\n",
    "        print('Pode tirar habilitação')\n",
    "    else:\n",
    "        tempo = 18 - idade\n",
    "        print(f'Calma... espere {tempo} ano(s) para tirar habilitação')\n",
    "\n",
    "habilitacao()"
   ],
   "metadata": {
    "collapsed": false,
    "ExecuteTime": {
     "start_time": "2023-06-12T21:53:34.418960Z",
     "end_time": "2023-06-12T21:53:35.890755Z"
    }
   }
  },
  {
   "cell_type": "markdown",
   "source": [
    "## PYTHON OPERATORS"
   ],
   "metadata": {
    "collapsed": false
   }
  },
  {
   "cell_type": "markdown",
   "source": [
    "| OPERATOR | DESCRIPTION         |\n",
    "|----------|---------------------|\n",
    "| a == b   | a equals b          |\n",
    "| a != b   | a differente from b |\n",
    "|a < b|a less than b|\n",
    "|a > b|a greater than b|\n",
    "|a <= b|a less or equal b|\n",
    "|a >=|a greater or equal a|"
   ],
   "metadata": {
    "collapsed": false
   }
  },
  {
   "cell_type": "code",
   "execution_count": null,
   "outputs": [],
   "source": [],
   "metadata": {
    "collapsed": false
   }
  }
 ],
 "metadata": {
  "kernelspec": {
   "display_name": "Python 3",
   "language": "python",
   "name": "python3"
  },
  "language_info": {
   "codemirror_mode": {
    "name": "ipython",
    "version": 2
   },
   "file_extension": ".py",
   "mimetype": "text/x-python",
   "name": "python",
   "nbconvert_exporter": "python",
   "pygments_lexer": "ipython2",
   "version": "2.7.6"
  }
 },
 "nbformat": 4,
 "nbformat_minor": 0
}
