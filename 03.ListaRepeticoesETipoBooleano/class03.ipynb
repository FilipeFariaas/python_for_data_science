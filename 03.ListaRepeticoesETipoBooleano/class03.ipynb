{
 "cells": [
  {
   "cell_type": "markdown",
   "source": [
    "# LIST"
   ],
   "metadata": {
    "collapsed": false
   }
  },
  {
   "cell_type": "code",
   "execution_count": 12,
   "outputs": [
    {
     "name": "stdout",
     "output_type": "stream",
     "text": [
      "23\n"
     ]
    },
    {
     "data": {
      "text/plain": "int"
     },
     "execution_count": 12,
     "metadata": {},
     "output_type": "execute_result"
    }
   ],
   "source": [
    "age = 23\n",
    "print(age)\n",
    "type(age)"
   ],
   "metadata": {
    "collapsed": false,
    "ExecuteTime": {
     "start_time": "2023-06-12T22:18:48.513516Z",
     "end_time": "2023-06-12T22:18:48.521556Z"
    }
   }
  },
  {
   "cell_type": "code",
   "execution_count": 4,
   "outputs": [
    {
     "name": "stdout",
     "output_type": "stream",
     "text": [
      "Filipe\n"
     ]
    },
    {
     "data": {
      "text/plain": "str"
     },
     "execution_count": 4,
     "metadata": {},
     "output_type": "execute_result"
    }
   ],
   "source": [
    "name = \"Filipe\"\n",
    "print(name)\n",
    "type(name)"
   ],
   "metadata": {
    "collapsed": false,
    "ExecuteTime": {
     "start_time": "2023-06-12T22:14:21.393130Z",
     "end_time": "2023-06-12T22:14:21.399873Z"
    }
   }
  },
  {
   "cell_type": "code",
   "execution_count": 6,
   "outputs": [
    {
     "data": {
      "text/plain": "list"
     },
     "execution_count": 6,
     "metadata": {},
     "output_type": "execute_result"
    }
   ],
   "source": [
    "ages = [10, 20, 30, 40]\n",
    "#        0   1   2   3  ...\n",
    "type(ages)"
   ],
   "metadata": {
    "collapsed": false,
    "ExecuteTime": {
     "start_time": "2023-06-12T22:16:29.750935Z",
     "end_time": "2023-06-12T22:16:29.756452Z"
    }
   }
  },
  {
   "cell_type": "code",
   "execution_count": 9,
   "outputs": [
    {
     "data": {
      "text/plain": "10"
     },
     "execution_count": 9,
     "metadata": {},
     "output_type": "execute_result"
    }
   ],
   "source": [
    "ages[0]"
   ],
   "metadata": {
    "collapsed": false,
    "ExecuteTime": {
     "start_time": "2023-06-12T22:18:31.039655Z",
     "end_time": "2023-06-12T22:18:31.051134Z"
    }
   }
  },
  {
   "cell_type": "code",
   "execution_count": 19,
   "outputs": [
    {
     "data": {
      "text/plain": "[10, 20]"
     },
     "execution_count": 19,
     "metadata": {},
     "output_type": "execute_result"
    }
   ],
   "source": [
    "ages[0:2]"
   ],
   "metadata": {
    "collapsed": false,
    "ExecuteTime": {
     "start_time": "2023-06-12T22:20:47.794291Z",
     "end_time": "2023-06-12T22:20:47.799793Z"
    }
   }
  },
  {
   "cell_type": "code",
   "execution_count": 20,
   "outputs": [
    {
     "data": {
      "text/plain": "[20, 30, 40]"
     },
     "execution_count": 20,
     "metadata": {},
     "output_type": "execute_result"
    }
   ],
   "source": [
    "ages[1:]"
   ],
   "metadata": {
    "collapsed": false,
    "ExecuteTime": {
     "start_time": "2023-06-12T22:21:05.956297Z",
     "end_time": "2023-06-12T22:21:05.964420Z"
    }
   }
  },
  {
   "cell_type": "code",
   "execution_count": 24,
   "outputs": [
    {
     "data": {
      "text/plain": "40"
     },
     "execution_count": 24,
     "metadata": {},
     "output_type": "execute_result"
    }
   ],
   "source": [
    "ages[-1]"
   ],
   "metadata": {
    "collapsed": false,
    "ExecuteTime": {
     "start_time": "2023-06-12T22:21:45.769423Z",
     "end_time": "2023-06-12T22:21:45.775958Z"
    }
   }
  },
  {
   "cell_type": "markdown",
   "source": [
    "# LOOPS"
   ],
   "metadata": {
    "collapsed": false
   }
  },
  {
   "cell_type": "markdown",
   "source": [
    "## FOR OUTSIDE THE FUNCTION"
   ],
   "metadata": {
    "collapsed": false
   }
  },
  {
   "cell_type": "code",
   "execution_count": 26,
   "outputs": [],
   "source": [
    "def can_ride(age):\n",
    "    if age >= 18:\n",
    "        print(f\"Age: {age} | Can ride\")\n",
    "    else:\n",
    "        print(f\"Age: {age} | Can't ride\")"
   ],
   "metadata": {
    "collapsed": false,
    "ExecuteTime": {
     "start_time": "2023-06-12T22:33:45.107953Z",
     "end_time": "2023-06-12T22:33:45.110964Z"
    }
   }
  },
  {
   "cell_type": "code",
   "execution_count": 27,
   "outputs": [
    {
     "name": "stdout",
     "output_type": "stream",
     "text": [
      "Age: 10 | Can't ride\n",
      "Age: 20 | Can ride\n",
      "Age: 30 | Can ride\n",
      "Age: 40 | Can ride\n"
     ]
    }
   ],
   "source": [
    "for age in ages:\n",
    "    can_ride(age)"
   ],
   "metadata": {
    "collapsed": false,
    "ExecuteTime": {
     "start_time": "2023-06-12T22:35:12.426379Z",
     "end_time": "2023-06-12T22:35:12.434784Z"
    }
   }
  },
  {
   "cell_type": "markdown",
   "source": [
    "## FOR INSIDE THE FUNCTION"
   ],
   "metadata": {
    "collapsed": false
   }
  },
  {
   "cell_type": "code",
   "execution_count": 30,
   "outputs": [],
   "source": [
    "def can_ride(ages):\n",
    "    for age in ages:\n",
    "        if age >= 18:\n",
    "            print(f\"Age: {age} | Can ride\")\n",
    "        else:\n",
    "            print(f\"Age: {age} | Can't ride\")"
   ],
   "metadata": {
    "collapsed": false,
    "ExecuteTime": {
     "start_time": "2023-06-12T22:38:47.577775Z",
     "end_time": "2023-06-12T22:38:47.600411Z"
    }
   }
  },
  {
   "cell_type": "code",
   "execution_count": 31,
   "outputs": [
    {
     "name": "stdout",
     "output_type": "stream",
     "text": [
      "Age: 10 | Can't ride\n",
      "Age: 20 | Can ride\n",
      "Age: 30 | Can ride\n",
      "Age: 40 | Can ride\n"
     ]
    }
   ],
   "source": [
    "can_ride(ages)"
   ],
   "metadata": {
    "collapsed": false,
    "ExecuteTime": {
     "start_time": "2023-06-12T22:38:47.729196Z",
     "end_time": "2023-06-12T22:38:47.736234Z"
    }
   }
  },
  {
   "cell_type": "code",
   "execution_count": null,
   "outputs": [],
   "source": [],
   "metadata": {
    "collapsed": false
   }
  }
 ],
 "metadata": {
  "kernelspec": {
   "display_name": "Python 3",
   "language": "python",
   "name": "python3"
  },
  "language_info": {
   "codemirror_mode": {
    "name": "ipython",
    "version": 2
   },
   "file_extension": ".py",
   "mimetype": "text/x-python",
   "name": "python",
   "nbconvert_exporter": "python",
   "pygments_lexer": "ipython2",
   "version": "2.7.6"
  }
 },
 "nbformat": 4,
 "nbformat_minor": 0
}
