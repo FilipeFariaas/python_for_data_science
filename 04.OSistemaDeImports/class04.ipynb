{
 "cells": [
  {
   "cell_type": "markdown",
   "source": [
    "# TYPES IN A LIST"
   ],
   "metadata": {
    "collapsed": false
   }
  },
  {
   "cell_type": "code",
   "execution_count": 1,
   "outputs": [],
   "source": [
    "list = [\"Filipe\", 23, True, \"26\"]"
   ],
   "metadata": {
    "collapsed": false,
    "ExecuteTime": {
     "start_time": "2023-06-12T23:10:39.482277Z",
     "end_time": "2023-06-12T23:10:39.485799Z"
    }
   }
  },
  {
   "cell_type": "code",
   "execution_count": 3,
   "outputs": [
    {
     "name": "stdout",
     "output_type": "stream",
     "text": [
      "O elemento Filipe é do tipo <class 'str'>\n",
      "O elemento 23 é do tipo <class 'int'>\n",
      "O elemento True é do tipo <class 'bool'>\n",
      "O elemento 26 é do tipo <class 'str'>\n"
     ]
    }
   ],
   "source": [
    "for el in list:\n",
    "    print(f\"The element {el} is of the type {type(el)}\")"
   ],
   "metadata": {
    "collapsed": false,
    "ExecuteTime": {
     "start_time": "2023-06-12T23:11:13.519070Z",
     "end_time": "2023-06-12T23:11:13.521587Z"
    }
   }
  },
  {
   "cell_type": "code",
   "execution_count": null,
   "outputs": [],
   "source": [],
   "metadata": {
    "collapsed": false
   }
  }
 ],
 "metadata": {
  "kernelspec": {
   "display_name": "Python 3",
   "language": "python",
   "name": "python3"
  },
  "language_info": {
   "codemirror_mode": {
    "name": "ipython",
    "version": 2
   },
   "file_extension": ".py",
   "mimetype": "text/x-python",
   "name": "python",
   "nbconvert_exporter": "python",
   "pygments_lexer": "ipython2",
   "version": "2.7.6"
  }
 },
 "nbformat": 4,
 "nbformat_minor": 0
}
