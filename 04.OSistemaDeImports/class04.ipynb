{
 "cells": [
  {
   "cell_type": "markdown",
   "source": [
    "# TYPES IN A LIST"
   ],
   "metadata": {
    "collapsed": false
   }
  },
  {
   "cell_type": "code",
   "execution_count": 1,
   "outputs": [],
   "source": [
    "list = [\"Filipe\", 23, True, \"26\"]"
   ],
   "metadata": {
    "collapsed": false,
    "ExecuteTime": {
     "start_time": "2023-06-12T23:10:39.482277Z",
     "end_time": "2023-06-12T23:10:39.485799Z"
    }
   }
  },
  {
   "cell_type": "code",
   "execution_count": 3,
   "outputs": [
    {
     "name": "stdout",
     "output_type": "stream",
     "text": [
      "O elemento Filipe é do tipo <class 'str'>\n",
      "O elemento 23 é do tipo <class 'int'>\n",
      "O elemento True é do tipo <class 'bool'>\n",
      "O elemento 26 é do tipo <class 'str'>\n"
     ]
    }
   ],
   "source": [
    "for el in list:\n",
    "    print(f\"The element {el} is of the type {type(el)}\")"
   ],
   "metadata": {
    "collapsed": false,
    "ExecuteTime": {
     "start_time": "2023-06-12T23:11:13.519070Z",
     "end_time": "2023-06-12T23:11:13.521587Z"
    }
   }
  },
  {
   "cell_type": "markdown",
   "source": [
    "# IMPORT"
   ],
   "metadata": {
    "collapsed": false
   }
  },
  {
   "cell_type": "code",
   "execution_count": 4,
   "outputs": [],
   "source": [
    "from random import randrange"
   ],
   "metadata": {
    "collapsed": false,
    "ExecuteTime": {
     "start_time": "2023-06-12T23:17:45.162389Z",
     "end_time": "2023-06-12T23:17:45.175951Z"
    }
   }
  },
  {
   "cell_type": "code",
   "execution_count": 21,
   "outputs": [],
   "source": [
    "grades = []"
   ],
   "metadata": {
    "collapsed": false,
    "ExecuteTime": {
     "start_time": "2023-06-12T23:22:29.649111Z",
     "end_time": "2023-06-12T23:22:29.653632Z"
    }
   }
  },
  {
   "cell_type": "code",
   "execution_count": 22,
   "outputs": [],
   "source": [
    "for grade in range(8):\n",
    "    grades.append(randrange(0, 11))"
   ],
   "metadata": {
    "collapsed": false,
    "ExecuteTime": {
     "start_time": "2023-06-12T23:22:29.816871Z",
     "end_time": "2023-06-12T23:22:29.821881Z"
    }
   }
  },
  {
   "cell_type": "code",
   "execution_count": 23,
   "outputs": [
    {
     "data": {
      "text/plain": "[7, 8, 6, 2, 10, 4, 0, 0]"
     },
     "execution_count": 23,
     "metadata": {},
     "output_type": "execute_result"
    }
   ],
   "source": [
    "grades"
   ],
   "metadata": {
    "collapsed": false,
    "ExecuteTime": {
     "start_time": "2023-06-12T23:22:30.248802Z",
     "end_time": "2023-06-12T23:22:30.253370Z"
    }
   }
  },
  {
   "cell_type": "code",
   "execution_count": 24,
   "outputs": [
    {
     "data": {
      "text/plain": "8"
     },
     "execution_count": 24,
     "metadata": {},
     "output_type": "execute_result"
    }
   ],
   "source": [
    "len(grades)"
   ],
   "metadata": {
    "collapsed": false,
    "ExecuteTime": {
     "start_time": "2023-06-12T23:24:21.603425Z",
     "end_time": "2023-06-12T23:24:21.612625Z"
    }
   }
  },
  {
   "cell_type": "code",
   "execution_count": null,
   "outputs": [],
   "source": [],
   "metadata": {
    "collapsed": false
   }
  }
 ],
 "metadata": {
  "kernelspec": {
   "display_name": "Python 3",
   "language": "python",
   "name": "python3"
  },
  "language_info": {
   "codemirror_mode": {
    "name": "ipython",
    "version": 2
   },
   "file_extension": ".py",
   "mimetype": "text/x-python",
   "name": "python",
   "nbconvert_exporter": "python",
   "pygments_lexer": "ipython2",
   "version": "2.7.6"
  }
 },
 "nbformat": 4,
 "nbformat_minor": 0
}
